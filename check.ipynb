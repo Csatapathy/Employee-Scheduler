{
 "metadata": {
  "language_info": {
   "codemirror_mode": {
    "name": "ipython",
    "version": 3
   },
   "file_extension": ".py",
   "mimetype": "text/x-python",
   "name": "python",
   "nbconvert_exporter": "python",
   "pygments_lexer": "ipython3",
   "version": "3.8.3-final"
  },
  "orig_nbformat": 2,
  "kernelspec": {
   "name": "python3",
   "display_name": "Python 3"
  }
 },
 "nbformat": 4,
 "nbformat_minor": 2,
 "cells": [
  {
   "source": [
    "# Employee Scheduling Program\n",
    "Given the following parameters:\n",
    "* Task list : with TaskID, Skill required and Priority values\n",
    "* People List : with Person ID and their Names\n",
    "* Skill Matrix : with Person ID and Skill ID for that person\n",
    "\n",
    "We have to schedule the tasks such that:\n",
    "* The High Priority ones are done as soon as possible\n",
    "* The work is done in the least amount of time\n",
    "* Each task takes a full day to perform.\n",
    "* Each task requires a single person to perform it."
   ],
   "cell_type": "markdown",
   "metadata": {}
  },
  {
   "cell_type": "code",
   "execution_count": 64,
   "metadata": {},
   "outputs": [],
   "source": [
    "import pandas as pd\n",
    "import collections\n",
    "import csv\n",
    "\n",
    "class people:\n",
    "    \n",
    "    def __init__(self,personID,skillID,name):\n",
    "        \"\"\"\n",
    "        Defining the class for ppl that includes the 3 parameters\n",
    "        @params:\n",
    "        personID : the ID associated with the person\n",
    "        skillID : the array of skills that the person has\n",
    "        name : the name of the person\n",
    "        \"\"\"\n",
    "        self.personID=personID\n",
    "        self.skillID=skillID\n",
    "        self.name=name\n",
    "\n",
    "class task:\n",
    "\n",
    "    def __init__(self,taskID,skillID,priority):\n",
    "        \"\"\"\n",
    "        Defining the class for tasks that includes the 3 parameters\n",
    "        @params:\n",
    "        taskID : the ID associated with the task that needs to be done\n",
    "        skillID : the skill ID that is req. to complete the task\n",
    "        priority : priority of the task (True: for urgent,False: for less urgent)\n",
    "        \"\"\"\n",
    "        self.taskID=taskID\n",
    "        self.skillID=skillID\n",
    "        self.priority=priority\n",
    "\n",
    "\n",
    "def add_val_tasks(data_tasks):\n",
    "    \"\"\"\n",
    "    This method returns a list of task values sorted based on priority\n",
    "    \"\"\"\n",
    "    tasks=[]\n",
    "    for i in range(len(data_tasks)):\n",
    "        taskID=data_tasks.loc[i]['Id']\n",
    "        skillID=data_tasks.loc[i]['SkillRequired']\n",
    "        priority=data_tasks.loc[i]['IsPriority']\n",
    "        tasks.append(task(taskID,skillID,priority))\n",
    "    tasks.sort(key= lambda x:x.priority,reverse=True)\n",
    "    return tasks\n",
    "\n",
    "def add_val_ppl(data_ppl):\n",
    "    \"\"\"\n",
    "    This method returns a list of people values \n",
    "    \"\"\"\n",
    "    ppl=[]\n",
    "    for i in range(len(data_ppl)):\n",
    "        id=data_ppl.loc[i]['Id']\n",
    "        name=data_ppl.loc[i]['Name']\n",
    "        skill=data_ppl.loc[i]['Skills']\n",
    "        ppl.append(people(personID=id,skillID=skill,name=name))\n",
    "    return ppl\n",
    "\n",
    "def addSkills(data,length):\n",
    "    \"\"\"\n",
    "    This returns a dictionary of the list of skills that each person has\n",
    "    \"\"\"\n",
    "    arr={}\n",
    "    for i in range(1,length+1):\n",
    "        arr[i]=[]\n",
    "    for i in range(len(data)):\n",
    "        personId=int(data.loc[i]['PersonId'])\n",
    "        skillId=int(data.loc[i]['SkillId'])\n",
    "        arr[personId].append(skillId)\n",
    "    return arr\n",
    "\n",
    "def makeDict(data,skill_num):\n",
    "    \"\"\"\n",
    "    returns a dictionary of skillID vs the list of people that have those skills\n",
    "    \"\"\"\n",
    "    d={}\n",
    "    for i in range(1,skill_num[0]+1):\n",
    "        d[i]=[]\n",
    "    for i in range(len(data)):\n",
    "        id=data[i].personID\n",
    "        skills=data[i].skillID\n",
    "        for i in skills:\n",
    "            d[i].append(id)\n",
    "    return d\n",
    "\n",
    "\n",
    "\n",
    "def takeInput(ppl,skills,tasks):\n",
    "    \"\"\"\n",
    "    This method takes input from diff files and returns \n",
    "    ppl: the list of people with IDs,skills and names\n",
    "    tasks: the list of tasks with IDs,skill req and priority\n",
    "    skill_num : the max skillID\n",
    "    \"\"\"\n",
    "\n",
    "    data_ppl=pd.read_csv(ppl)\n",
    "    data_skills=pd.read_csv(skills)\n",
    "    data_tasks=pd.read_csv(tasks)\n",
    "    data_ppl['Skills']=addSkills(data_skills,len(data_ppl)).values()\n",
    "    skill_num=data_ppl['Skills'].max()\n",
    "\n",
    "    ppl=add_val_ppl(data_ppl)\n",
    "    tasks=add_val_tasks(data_tasks)    \n",
    "\n",
    "    return ppl,tasks,skill_num\n",
    "    \n",
    "\n",
    "\n",
    "def assign(ppl_data,skills_data,tasks_data):\n",
    "    \"\"\"\n",
    "    assigns the tasks to people and returns an orderedDict of taskID vs the personID and the day assigned\n",
    "    \"\"\"\n",
    "    ppl,tasks,skill_num=takeInput(ppl_data,skills_data,tasks_data)\n",
    "    data=makeDict(ppl,skill_num) # makes a dictionary of skills vs personID\n",
    "\n",
    "    main_assign={}\n",
    "    main_check=[0]*len(tasks)\n",
    "    day=1\n",
    "    while (sum(main_check)<len(tasks)):\n",
    "        person_assign=[0]*len(ppl)\n",
    "        i=0\n",
    "        while (sum(person_assign)<len(ppl)) and (i<len(tasks)):\n",
    "            if main_check[i]==0:\n",
    "                task_id=tasks[i].taskID\n",
    "                skill_req=tasks[i].skillID\n",
    "                for x in data[skill_req]:\n",
    "                    if person_assign[x-1]==0:\n",
    "                        person_assign[x-1]=1\n",
    "                        main_assign[task_id]=[x,day]\n",
    "                        main_check[i]=1\n",
    "                        break\n",
    "            i+=1\n",
    "        day+=1\n",
    "\n",
    "    return collections.OrderedDict(sorted(main_assign.items()))\n",
    "\n",
    "def write_csv(data,filename):\n",
    "    \"\"\"\n",
    "    writes to the csv file\n",
    "    \"\"\"\n",
    "    fields=['TaskID','PersonID','Day']\n",
    "\n",
    "    with open(filename,'w',newline='') as file:\n",
    "        writer=csv.writer(file)\n",
    "        writer.writerow(fields)\n",
    "        for row in data:\n",
    "            writer.writerow([row,data[row][0],data[row][1]])\n"
   ]
  },
  {
   "cell_type": "code",
   "execution_count": 13,
   "metadata": {},
   "outputs": [
    {
     "output_type": "stream",
     "name": "stdout",
     "text": [
      "Time taken for 14 tasks:  0.02830362319946289\n"
     ]
    }
   ],
   "source": [
    "import time\n",
    "start=time.time()\n",
    "ppl='data/in/people.csv'\n",
    "skills='data/in/skillMatrix.csv'\n",
    "tasks='data/in/tasks-small.csv'\n",
    "filename='data/out/assignments-small.csv'\n",
    "write_csv(assign(ppl,skills,tasks),filename)\n",
    "end=time.time()\n",
    "print('Time taken for 14 tasks: ',end-start)"
   ]
  },
  {
   "cell_type": "code",
   "execution_count": 14,
   "metadata": {},
   "outputs": [
    {
     "output_type": "stream",
     "name": "stdout",
     "text": [
      "Time taken for 300 tasks:  0.15445661544799805\n"
     ]
    }
   ],
   "source": [
    "start=time.time()\n",
    "ppl='data/in/people.csv'\n",
    "skills='data/in/skillMatrix.csv'\n",
    "tasks='data/in/tasks-large.csv'\n",
    "filename='data/out/assignments-large.csv'\n",
    "write_csv(assign(ppl,skills,tasks),filename)\n",
    "end=time.time()\n",
    "print('Time taken for 300 tasks: ',end-start)"
   ]
  },
  {
   "source": [
    "# Data Analysis\n",
    "We will be analysis data for the large assignments file"
   ],
   "cell_type": "markdown",
   "metadata": {}
  },
  {
   "source": [
    "## 1. Data Input"
   ],
   "cell_type": "markdown",
   "metadata": {}
  },
  {
   "cell_type": "code",
   "execution_count": 37,
   "metadata": {},
   "outputs": [
    {
     "output_type": "execute_result",
     "data": {
      "text/plain": [
       "        PersonID  Day  IsPriority\n",
       "TaskID                           \n",
       "1              1    1        True\n",
       "2              1    7       False\n",
       "3              2    7       False\n",
       "4              3    7       False\n",
       "5              4    7       False"
      ],
      "text/html": "<div>\n<style scoped>\n    .dataframe tbody tr th:only-of-type {\n        vertical-align: middle;\n    }\n\n    .dataframe tbody tr th {\n        vertical-align: top;\n    }\n\n    .dataframe thead th {\n        text-align: right;\n    }\n</style>\n<table border=\"1\" class=\"dataframe\">\n  <thead>\n    <tr style=\"text-align: right;\">\n      <th></th>\n      <th>PersonID</th>\n      <th>Day</th>\n      <th>IsPriority</th>\n    </tr>\n    <tr>\n      <th>TaskID</th>\n      <th></th>\n      <th></th>\n      <th></th>\n    </tr>\n  </thead>\n  <tbody>\n    <tr>\n      <th>1</th>\n      <td>1</td>\n      <td>1</td>\n      <td>True</td>\n    </tr>\n    <tr>\n      <th>2</th>\n      <td>1</td>\n      <td>7</td>\n      <td>False</td>\n    </tr>\n    <tr>\n      <th>3</th>\n      <td>2</td>\n      <td>7</td>\n      <td>False</td>\n    </tr>\n    <tr>\n      <th>4</th>\n      <td>3</td>\n      <td>7</td>\n      <td>False</td>\n    </tr>\n    <tr>\n      <th>5</th>\n      <td>4</td>\n      <td>7</td>\n      <td>False</td>\n    </tr>\n  </tbody>\n</table>\n</div>"
     },
     "metadata": {},
     "execution_count": 37
    }
   ],
   "source": [
    "data=pd.read_csv('data/out/assignments-large.csv',index_col=0)\n",
    "tasks=pd.read_csv('data/in/tasks-large.csv')\n",
    "tasks.index=range(1,301)\n",
    "data=data.join(tasks['IsPriority'])\n",
    "data.head()"
   ]
  },
  {
   "source": [
    "## 2. High Priority Jobs Analysis\n",
    "We will be analysing the no of high priority jobs that were assigned and the time within which it was done."
   ],
   "cell_type": "markdown",
   "metadata": {}
  },
  {
   "cell_type": "code",
   "execution_count": 54,
   "metadata": {},
   "outputs": [
    {
     "output_type": "execute_result",
     "data": {
      "text/plain": [
       "        PersonID  Day\n",
       "TaskID               \n",
       "1              1    1\n",
       "11             2    1\n",
       "23             4    1\n",
       "24             3    1\n",
       "36             5    1\n",
       "38             6    1\n",
       "39             1    2\n",
       "44             6    2\n",
       "71             2    2\n",
       "75             1    3\n",
       "79             4    2\n",
       "83             3    2\n",
       "87             5    2\n",
       "88             2    3\n",
       "95             3    3\n",
       "110            4    3\n",
       "116            6    3\n",
       "118            4    4\n",
       "120            1    4\n",
       "122            2    4\n",
       "124            6    4\n",
       "126            5    3\n",
       "130            1    5\n",
       "141            4    5\n",
       "142            6    5\n",
       "145            2    5\n",
       "146            3    4\n",
       "151            3    5\n",
       "160            5    4\n",
       "170            5    5\n",
       "171            1    6\n",
       "176            2    6\n",
       "240            3    6\n",
       "245            4    6\n",
       "274            5    6\n",
       "277            6    6"
      ],
      "text/html": "<div>\n<style scoped>\n    .dataframe tbody tr th:only-of-type {\n        vertical-align: middle;\n    }\n\n    .dataframe tbody tr th {\n        vertical-align: top;\n    }\n\n    .dataframe thead th {\n        text-align: right;\n    }\n</style>\n<table border=\"1\" class=\"dataframe\">\n  <thead>\n    <tr style=\"text-align: right;\">\n      <th></th>\n      <th>PersonID</th>\n      <th>Day</th>\n    </tr>\n    <tr>\n      <th>TaskID</th>\n      <th></th>\n      <th></th>\n    </tr>\n  </thead>\n  <tbody>\n    <tr>\n      <th>1</th>\n      <td>1</td>\n      <td>1</td>\n    </tr>\n    <tr>\n      <th>11</th>\n      <td>2</td>\n      <td>1</td>\n    </tr>\n    <tr>\n      <th>23</th>\n      <td>4</td>\n      <td>1</td>\n    </tr>\n    <tr>\n      <th>24</th>\n      <td>3</td>\n      <td>1</td>\n    </tr>\n    <tr>\n      <th>36</th>\n      <td>5</td>\n      <td>1</td>\n    </tr>\n    <tr>\n      <th>38</th>\n      <td>6</td>\n      <td>1</td>\n    </tr>\n    <tr>\n      <th>39</th>\n      <td>1</td>\n      <td>2</td>\n    </tr>\n    <tr>\n      <th>44</th>\n      <td>6</td>\n      <td>2</td>\n    </tr>\n    <tr>\n      <th>71</th>\n      <td>2</td>\n      <td>2</td>\n    </tr>\n    <tr>\n      <th>75</th>\n      <td>1</td>\n      <td>3</td>\n    </tr>\n    <tr>\n      <th>79</th>\n      <td>4</td>\n      <td>2</td>\n    </tr>\n    <tr>\n      <th>83</th>\n      <td>3</td>\n      <td>2</td>\n    </tr>\n    <tr>\n      <th>87</th>\n      <td>5</td>\n      <td>2</td>\n    </tr>\n    <tr>\n      <th>88</th>\n      <td>2</td>\n      <td>3</td>\n    </tr>\n    <tr>\n      <th>95</th>\n      <td>3</td>\n      <td>3</td>\n    </tr>\n    <tr>\n      <th>110</th>\n      <td>4</td>\n      <td>3</td>\n    </tr>\n    <tr>\n      <th>116</th>\n      <td>6</td>\n      <td>3</td>\n    </tr>\n    <tr>\n      <th>118</th>\n      <td>4</td>\n      <td>4</td>\n    </tr>\n    <tr>\n      <th>120</th>\n      <td>1</td>\n      <td>4</td>\n    </tr>\n    <tr>\n      <th>122</th>\n      <td>2</td>\n      <td>4</td>\n    </tr>\n    <tr>\n      <th>124</th>\n      <td>6</td>\n      <td>4</td>\n    </tr>\n    <tr>\n      <th>126</th>\n      <td>5</td>\n      <td>3</td>\n    </tr>\n    <tr>\n      <th>130</th>\n      <td>1</td>\n      <td>5</td>\n    </tr>\n    <tr>\n      <th>141</th>\n      <td>4</td>\n      <td>5</td>\n    </tr>\n    <tr>\n      <th>142</th>\n      <td>6</td>\n      <td>5</td>\n    </tr>\n    <tr>\n      <th>145</th>\n      <td>2</td>\n      <td>5</td>\n    </tr>\n    <tr>\n      <th>146</th>\n      <td>3</td>\n      <td>4</td>\n    </tr>\n    <tr>\n      <th>151</th>\n      <td>3</td>\n      <td>5</td>\n    </tr>\n    <tr>\n      <th>160</th>\n      <td>5</td>\n      <td>4</td>\n    </tr>\n    <tr>\n      <th>170</th>\n      <td>5</td>\n      <td>5</td>\n    </tr>\n    <tr>\n      <th>171</th>\n      <td>1</td>\n      <td>6</td>\n    </tr>\n    <tr>\n      <th>176</th>\n      <td>2</td>\n      <td>6</td>\n    </tr>\n    <tr>\n      <th>240</th>\n      <td>3</td>\n      <td>6</td>\n    </tr>\n    <tr>\n      <th>245</th>\n      <td>4</td>\n      <td>6</td>\n    </tr>\n    <tr>\n      <th>274</th>\n      <td>5</td>\n      <td>6</td>\n    </tr>\n    <tr>\n      <th>277</th>\n      <td>6</td>\n      <td>6</td>\n    </tr>\n  </tbody>\n</table>\n</div>"
     },
     "metadata": {},
     "execution_count": 54
    }
   ],
   "source": [
    "# making the data frame with high priority jobs\n",
    "high=data[data['IsPriority']==True].drop('IsPriority',axis=1)\n",
    "high"
   ]
  },
  {
   "cell_type": "code",
   "execution_count": 63,
   "metadata": {},
   "outputs": [
    {
     "output_type": "stream",
     "name": "stdout",
     "text": [
      "Number of High Priority jobs assigned: 36 Jobs\n"
     ]
    }
   ],
   "source": [
    "# Number of High Priority jobs assigned:\n",
    "print('Number of High Priority jobs assigned:',high['PersonID'].count(),'Jobs')"
   ]
  },
  {
   "cell_type": "code",
   "execution_count": 57,
   "metadata": {},
   "outputs": [
    {
     "output_type": "execute_result",
     "data": {
      "text/plain": [
       "     PersonID\n",
       "Day          \n",
       "1           6\n",
       "2           6\n",
       "3           6\n",
       "4           6\n",
       "5           6\n",
       "6           6"
      ],
      "text/html": "<div>\n<style scoped>\n    .dataframe tbody tr th:only-of-type {\n        vertical-align: middle;\n    }\n\n    .dataframe tbody tr th {\n        vertical-align: top;\n    }\n\n    .dataframe thead th {\n        text-align: right;\n    }\n</style>\n<table border=\"1\" class=\"dataframe\">\n  <thead>\n    <tr style=\"text-align: right;\">\n      <th></th>\n      <th>PersonID</th>\n    </tr>\n    <tr>\n      <th>Day</th>\n      <th></th>\n    </tr>\n  </thead>\n  <tbody>\n    <tr>\n      <th>1</th>\n      <td>6</td>\n    </tr>\n    <tr>\n      <th>2</th>\n      <td>6</td>\n    </tr>\n    <tr>\n      <th>3</th>\n      <td>6</td>\n    </tr>\n    <tr>\n      <th>4</th>\n      <td>6</td>\n    </tr>\n    <tr>\n      <th>5</th>\n      <td>6</td>\n    </tr>\n    <tr>\n      <th>6</th>\n      <td>6</td>\n    </tr>\n  </tbody>\n</table>\n</div>"
     },
     "metadata": {},
     "execution_count": 57
    }
   ],
   "source": [
    "# Number of High Priority Jobs done vs Days\n",
    "high.groupby('Day').count()\n",
    "# From day 1 -> 6 , 6 high-priority jobs were done each day\n",
    "# It takes 6 days to complete the 36 High Priority jobs!"
   ]
  },
  {
   "source": [
    "## 3. The number of days it takes to complete the whole list of jobs"
   ],
   "cell_type": "markdown",
   "metadata": {}
  },
  {
   "cell_type": "code",
   "execution_count": 62,
   "metadata": {},
   "outputs": [
    {
     "output_type": "stream",
     "name": "stdout",
     "text": [
      "The number of days it takes to complete the whole list of jobs:  50 Days\n"
     ]
    }
   ],
   "source": [
    "# we can check this answer just by checking the max value of Day column\n",
    "max=data['Day'].max()\n",
    "print('The number of days it takes to complete the whole list of jobs: ',max,'Days')"
   ]
  },
  {
   "source": [
    "## 4. Time taken to generate\n",
    "We see from the data above that for :\n",
    "* 1. 300 Data points : we take 0.15445661544799805 seconds\n",
    "* 2. 14 Data points : we take 0.02830362319946289 seconds"
   ],
   "cell_type": "markdown",
   "metadata": {}
  }
 ]
}